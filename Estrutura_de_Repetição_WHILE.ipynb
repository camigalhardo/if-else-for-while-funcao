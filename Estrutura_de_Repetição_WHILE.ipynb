{
  "nbformat": 4,
  "nbformat_minor": 0,
  "metadata": {
    "colab": {
      "provenance": []
    },
    "kernelspec": {
      "name": "python3",
      "display_name": "Python 3"
    },
    "language_info": {
      "name": "python"
    }
  },
  "cells": [
    {
      "cell_type": "markdown",
      "source": [
        "Estrutura de Repetição WHILE"
      ],
      "metadata": {
        "id": "WA3xxM5MXSx1"
      }
    },
    {
      "cell_type": "markdown",
      "source": [
        " Faça um programa que peça uma nota, entre zero e dez. Mostre uma mensagem\n",
        "caso o valor seja inválido e continue pedindo até que o usuário informe um valor\n",
        "válido."
      ],
      "metadata": {
        "id": "2sHAmm-VlTTA"
      }
    },
    {
      "cell_type": "code",
      "source": [
        "nota = float(input(' Digite uma nota entre zero e dez: '))\n",
        "\n",
        "while nota < 0 or nota > 10:\n",
        "  nota = float(input(' Digite a nota corretamente: '))\n",
        "\n",
        "print(' Parabens vc nao fez mais que sua obrigacao ')\n",
        "\n"
      ],
      "metadata": {
        "colab": {
          "base_uri": "https://localhost:8080/"
        },
        "id": "KInadTj4gKuK",
        "outputId": "891f9f9b-cb1c-4c9c-bf87-568ce9b8fe6a"
      },
      "execution_count": null,
      "outputs": [
        {
          "output_type": "stream",
          "name": "stdout",
          "text": [
            " Digite uma nota entre zero e dez: 10\n",
            " Parabens vc nao fez mais que sua obrigacao \n"
          ]
        }
      ]
    },
    {
      "cell_type": "markdown",
      "source": [
        "Faça um programa que calcule o mostre a média aritmética de N notas"
      ],
      "metadata": {
        "id": "1H8souOfjnGx"
      }
    },
    {
      "cell_type": "code",
      "source": [
        "n = int(input(\"Digite a quantidade de notas: \"))\n",
        "notas = 0\n",
        "contador = 0\n",
        "continuar = 'S'\n",
        "\n",
        "while continuar == 'S':\n",
        "  nota = float(input('Digite uma nota'))\n",
        "  notas += notas\n",
        "  contador += 1\n",
        "  continuar = input('Deseja continuar? Sim(S) ou qualquer tecla para sair').upper()\n",
        "\n",
        "print(f'A media das notas é {notas/contador: .2f}')\n"
      ],
      "metadata": {
        "colab": {
          "base_uri": "https://localhost:8080/"
        },
        "id": "GSqlt0lzjnuh",
        "outputId": "677989c6-6109-4afc-991b-d398502aa5d4"
      },
      "execution_count": null,
      "outputs": [
        {
          "output_type": "stream",
          "name": "stdout",
          "text": [
            "Deseja continuar? Sim(S) ou qualquer tecla para sairsim\n",
            "A media das notas é  0.00\n"
          ]
        }
      ]
    },
    {
      "cell_type": "markdown",
      "source": [
        " Faça um programa que leia um nome de usuário e a sua senha e não aceite a\n",
        "senha igual ao nome do usuário, mostrando uma mensagem de erro e voltando a\n",
        "pedir as informações."
      ],
      "metadata": {
        "id": "1phBJgMQoXQQ"
      }
    },
    {
      "cell_type": "code",
      "source": [
        "nome = str(input('Digite o nome do usuario: '))\n",
        "senha = str(input(' Digite a senha: '))\n",
        "\n",
        "while nome == senha:\n",
        "  print(' Erro ao verificar, digite novamente')\n",
        "  senha = str(input(' Digite a senha: '))\n",
        "\n",
        "\n",
        "\n",
        "\n"
      ],
      "metadata": {
        "colab": {
          "base_uri": "https://localhost:8080/"
        },
        "id": "Mh2wlQqFoX5y",
        "outputId": "b6798a81-f36c-45bf-b38c-1a5c50b02af6"
      },
      "execution_count": null,
      "outputs": [
        {
          "name": "stdout",
          "output_type": "stream",
          "text": [
            "Digite o nome do usuario: ana\n",
            " Digite a senha: ana\n",
            " Erro ao verificar, digite novamente\n",
            " Digite a senha: ana\n",
            " Erro ao verificar, digite novamente\n",
            " Digite a senha: 2405\n"
          ]
        }
      ]
    },
    {
      "cell_type": "markdown",
      "source": [
        "Um funcionário de uma empresa recebe aumento salarial anualmente.\n",
        "Sabe-se que: Esse funcionário foi contratado em 1995, com salário inicial de R$\n",
        "1.000,00; Em 1996 recebeu aumento de 1,5% sobre seu salário inicial; A partir de\n",
        "1997 (inclusive), os aumentos salariais sempre correspondem ao dobro do\n",
        "percentual do ano anterior. Faça um programa que determine o salário atual desse\n",
        "funcionário. Após concluir isto, altere o programa permitindo que o usuário digite o\n",
        "salário inicial do funcionário."
      ],
      "metadata": {
        "id": "2a5H4z45su0O"
      }
    },
    {
      "cell_type": "code",
      "source": [
        "salario_inicial = float(input(\"digite o salario inicial: \"))\n",
        "percentual_aumento = 0.15\n",
        "ano_contratação = 1997\n",
        "ano_atual = 2024\n",
        "\n",
        "while ano_atual <= 2024:\n",
        "    aumento = salario_inicial * (percentual_aumento / 100)\n",
        "    salario_inicial += aumento\n",
        "    percentual_aumento *= 2\n",
        "    ano_atual += 1\n",
        "\n",
        "print(f\"O salário atual do funcionário em 2024 é: R$ {salario_inicial:.2f}\")"
      ],
      "metadata": {
        "colab": {
          "base_uri": "https://localhost:8080/"
        },
        "id": "ziKNtcrmsviN",
        "outputId": "f061fad7-67bf-4cba-9d33-37885674cfaf"
      },
      "execution_count": null,
      "outputs": [
        {
          "output_type": "stream",
          "name": "stdout",
          "text": [
            "digite o salario inicial: 1500\n",
            "O salário atual do funcionário em 2024 é: R$ 1502.25\n"
          ]
        }
      ]
    },
    {
      "cell_type": "markdown",
      "source": [
        "Faça um programa que leia e valide as seguintes informações:\n",
        " Nome: maior que 3 caracteres;\n",
        " Idade: entre 0 e 150;\n",
        " Salário: maior que zero;\n",
        " Sexo: 'f' ou 'm';\n",
        " Estado Civil: 's', 'c', 'v', 'd';\n"
      ],
      "metadata": {
        "id": "wpw-oseX7mfD"
      }
    },
    {
      "cell_type": "code",
      "source": [
        "nome = (input('Digite o nome do usuario: '))\n",
        "while len(nome) <= 3:\n",
        "  nome = input('O nome precisa ter mais de 3 caracteres, digite o seu nome novamente')\n",
        "\n",
        "idade =int(input('Digite sua idade: '))\n",
        "while idade <0 or idade> 150:\n",
        "  idade = int(input('Idade invalida, Digite novamente sua idade: '))\n",
        "\n",
        "salario = float(input('Digite o seu salario: '))\n",
        "while salario <=0:\n",
        "  salario = float(input('Digite novamente: '))\n",
        "\n",
        "sexo = input('Digite o seu sexo [f,m]: ')\n",
        "while sexo != 'f' and sexo != 'm' :\n",
        "  sexo = input('op;ao invalida! digite o seu sexo novamente: ')"
      ],
      "metadata": {
        "id": "jpMGQj8m7m_C",
        "colab": {
          "base_uri": "https://localhost:8080/"
        },
        "outputId": "a0ec71e0-e8db-4ecf-bbb8-6b0f36cd8bf5"
      },
      "execution_count": null,
      "outputs": [
        {
          "name": "stdout",
          "output_type": "stream",
          "text": [
            "Digite o nome do usuario: Ana\n",
            "O nome precisa ter mais de 3 caracteres, digite o seu nome novamenteAna Paula\n",
            "Digite sua idade: 30\n",
            "Digite o seu salario: 1500\n",
            "Digite o seu sexo [f,m]: f\n"
          ]
        }
      ]
    },
    {
      "cell_type": "markdown",
      "source": [
        "Supondo que a população de um país A seja da ordem de 80000 habitantes com\n",
        "uma taxa anual de crescimento de 3% e que a população de B seja 200000\n",
        "habitantes com uma taxa de crescimento de 1.5%. Faça um programa que calcule e\n",
        "escreva o número de anos necessários para que a população do país A ultrapasse\n",
        "ou iguale a população do país B, mantidas as taxas de crescimento."
      ],
      "metadata": {
        "id": "_pE1muRaOfTb"
      }
    },
    {
      "cell_type": "code",
      "source": [
        "PaisA = 80000\n",
        "PaisB = 20000\n",
        "ano = 0\n",
        "\n",
        "while PaisB >= PaisA:\n",
        "  PaisA += PaisA * 0.03\n",
        "  PaisB += PaisB * 0.015\n",
        "  ano += 1\n",
        "\n",
        "print(f'A quantidade de anos e: {ano}')"
      ],
      "metadata": {
        "colab": {
          "base_uri": "https://localhost:8080/"
        },
        "id": "50Wga4Q_OfzZ",
        "outputId": "7b0d6c5a-7a73-44e3-d45c-872fd4919a7a"
      },
      "execution_count": null,
      "outputs": [
        {
          "output_type": "stream",
          "name": "stdout",
          "text": [
            "A quantidade de anos e: 0\n"
          ]
        }
      ]
    },
    {
      "cell_type": "markdown",
      "source": [
        "Faça um programa que calcule o fatorial de um número inteiro fornecido pelo\n",
        "usuário. Ex.: 5!=5.4.3.2.1=120\n"
      ],
      "metadata": {
        "id": "khbijR6zSc7d"
      }
    },
    {
      "cell_type": "code",
      "source": [
        "numero = int(input('digite um numero inteiro para saber o fatorial: '))\n",
        "cont = 1\n",
        "fatorial = 1\n",
        "\n",
        "while cont < numero:\n",
        "  fatorial = fatorial * cont\n",
        "  cont = cont +1\n",
        "\n",
        "print(fatorial)"
      ],
      "metadata": {
        "colab": {
          "base_uri": "https://localhost:8080/"
        },
        "id": "HcrZslgmSdhQ",
        "outputId": "06be37f4-7600-48cf-f9d4-eecdb768c178"
      },
      "execution_count": null,
      "outputs": [
        {
          "output_type": "stream",
          "name": "stdout",
          "text": [
            "digite um numero inteiro para saber o fatorial: 10\n",
            "362880\n"
          ]
        }
      ]
    },
    {
      "cell_type": "markdown",
      "source": [
        "Faça um programa que solicite ao usuário números indefinidamente até que ele\n",
        "digite 0. Em seguida, o programa deve imprimir a média dos números digitados."
      ],
      "metadata": {
        "id": "-4DF9_jvW7gQ"
      }
    },
    {
      "cell_type": "code",
      "source": [
        "soma = 0\n",
        "quantidade = 0\n",
        "\n",
        "while True:\n",
        "  numero = float(input('digite um numero qualquer e 0 para sair: '))\n",
        "  if numero == 0:\n",
        "    break\n",
        "  soma += numero\n",
        "  quantidade +=1\n",
        "\n",
        "if quantidade <1:\n",
        "  media = soma/ quantidade\n",
        "  print(f'a media dos numeros digitados e {media}')\n",
        "\n",
        "else:\n",
        "  print('nenhum numero foi digitado')\n",
        "\n"
      ],
      "metadata": {
        "colab": {
          "base_uri": "https://localhost:8080/"
        },
        "id": "IAsnGqfmW758",
        "outputId": "adb57ce2-ef7c-421a-e173-faa80cad40e6"
      },
      "execution_count": null,
      "outputs": [
        {
          "output_type": "stream",
          "name": "stdout",
          "text": [
            "digite um numero qualquer e 0 para sair: 10\n",
            "digite um numero qualquer e 0 para sair: 10\n",
            "digite um numero qualquer e 0 para sair: 10\n",
            "digite um numero qualquer e 0 para sair: 10\n",
            "digite um numero qualquer e 0 para sair: 10\n",
            "digite um numero qualquer e 0 para sair: 10\n",
            "digite um numero qualquer e 0 para sair: 1000\n",
            "digite um numero qualquer e 0 para sair: 0\n",
            "nenhum numero foi digitado\n"
          ]
        }
      ]
    },
    {
      "cell_type": "markdown",
      "source": [
        "A série de Fibonacci é formada pela sequência 1,1,2,3,5,8,13,21,34,55,... Faça um\n",
        "programa capaz de gerar a série até o n−ésimo termo."
      ],
      "metadata": {
        "id": "LNpHvp4mYFkx"
      }
    },
    {
      "cell_type": "code",
      "source": [
        "ultimo = 1\n",
        "penultimo = 1\n",
        "cont = 1\n",
        "print(ultimo)\n",
        "print(penultimo)\n",
        "while cont <=9:\n",
        "  termo = ultimo + penultimo\n",
        "  penultimo = ultimo\n",
        "  ultimo = termo\n",
        "  cont += 1\n",
        "  print(termo)"
      ],
      "metadata": {
        "colab": {
          "base_uri": "https://localhost:8080/"
        },
        "id": "GuZ9y6vAYGB7",
        "outputId": "9405b93e-143b-4628-a265-7d0a890ff4ce"
      },
      "execution_count": null,
      "outputs": [
        {
          "output_type": "stream",
          "name": "stdout",
          "text": [
            "1\n",
            "1\n",
            "2\n",
            "3\n",
            "5\n",
            "8\n",
            "13\n",
            "21\n",
            "34\n",
            "55\n",
            "89\n"
          ]
        }
      ]
    },
    {
      "cell_type": "markdown",
      "source": [
        "O Sr. Manoel Joaquim expandiu seus negócios para além dos negócios de 1,99 e\n",
        "agora possui uma loja de conveniências. Faça um programa que implemente uma\n",
        "caixa registradora rudimentar.\n",
        " O programa deverá receber um número desconhecido de valores referentes\n",
        "aos preços das mercadorias. Um valor zero deve ser informado pelo\n",
        "operador para indicar o final da compra.\n",
        " O programa deve então mostrar o total da compra e perguntar o valor em\n",
        "dinheiro que o cliente forneceu, para então calcular e mostrar o valor do\n",
        "troco. Após esta operação, o programa deverá voltar ao ponto inicial, para\n",
        "registrar a próxima compra.\n",
        " A saída deve ser conforme o exemplo abaixo:\n",
        " Lojas Tabajara\n",
        " Produto 1: R$ 2.20\n",
        " Produto 2: R$ 5.80\n",
        " Produto 3: R$ 0\n",
        " Total: R$ 9.00\n",
        " Dinheiro: R$ 20.00\n",
        " Troco: R$ 11.00\n"
      ],
      "metadata": {
        "id": "Tn9r5I42Z3bp"
      }
    },
    {
      "cell_type": "code",
      "source": [
        "print('lojas tabajara')\n",
        "total = 0\n",
        "produto = 0\n",
        "valor = 0\n",
        "\n",
        "while True:\n",
        "  produto += 1\n",
        "  valor = float(input(f'produto {produto}: R$'))\n",
        "  if valor == 0:\n",
        "   break\n",
        "  total += valor\n",
        "print(f'o total da compra foi R${total:.2f}')\n",
        "dinheiro = float(input('dinheiro recebido: R$'))\n",
        "print(f'troco: {dinheiro - total:.2f}')"
      ],
      "metadata": {
        "id": "JSa44hJfZ47z",
        "colab": {
          "base_uri": "https://localhost:8080/"
        },
        "outputId": "96b827b4-7899-4c28-ab7a-a7841f9f6da0"
      },
      "execution_count": null,
      "outputs": [
        {
          "output_type": "stream",
          "name": "stdout",
          "text": [
            "lojas tabajara\n",
            "produto 1: R$0\n",
            "o total da compra foi R$0.00\n",
            "dinheiro recebido: R$20\n",
            "troco: 20.00\n"
          ]
        }
      ]
    },
    {
      "cell_type": "markdown",
      "source": [
        "O cardápio de uma lanchonete é o seguinte:\n",
        "Especificação Código Preço\n",
        " Cachorro Quente 100 R$ 1,20\n",
        " Bauru Simples 101 R$ 1,30\n",
        " Bauru com ovo 102 R$ 1,50\n",
        " Hambúrguer 103 R$ 1,20\n",
        " Cheeseburguer 104 R$ 1,30\n",
        " Refrigerante 105 R$ 1,00\n",
        "Faça um programa que leia o código dos itens pedidos e as quantidades desejadas.\n",
        "Calcule e mostre o valor a ser pago por item (preço * quantidade) e o total geral do\n",
        "pedido. Considere que o cliente deve informar quando o pedido deve ser encerrado."
      ],
      "metadata": {
        "id": "QoAoC-Oc3_hO"
      }
    },
    {
      "cell_type": "code",
      "source": [
        "cardapio = {\n",
        "    100: {'nome': 'Cachorro Quente', 'precos': [1.20, 1.30, 1.50, 1.30, 1.00]},\n",
        "    101: {'nome': 'Bauru Simples', 'precos': [1.10, 1.30, 1.50, 1.20, 1.10]},\n",
        "    102: {'nome': 'Bauru com ovo', 'precos': [1.30, 1.50, 1.70, 1.50, 1.30]},\n",
        "    103: {'nome': 'Hambúrguer', 'precos': [1.20, 1.40, 1.60, 1.40, 1.20]},\n",
        "    104: {'nome': 'Cheeseburguer', 'precos': [1.30, 1.50, 1.70, 1.50, 1.30]},\n",
        "    105: {'nome': 'Refrigerante', 'precos': [1.00, 1.20, 1.50, 1.20, 1.00]}\n",
        "}\n",
        "\n",
        "print(\"Bem-vindo à Lanchonete!\")\n",
        "total_pedido = 0\n",
        "\n",
        "while True:\n",
        "    codigo = int(input(\"Digite o código do item desejado (ou 0 para encerrar o pedido): \"))\n",
        "    if codigo == 0:\n",
        "        break\n",
        "\n",
        "    if codigo not in cardapio:\n",
        "        print(\"Código de item inválido. Por favor, tente novamente.\")\n",
        "        continue\n",
        "\n",
        "    quantidade = int(input(f\"Digite a quantidade de '{cardapio[codigo]['nome']}': \"))\n",
        "\n",
        "    preco_unitario = cardapio[codigo]['precos'][quantidade - 1]\n",
        "    subtotal = preco_unitario * quantidade\n",
        "    total_pedido += subtotal\n",
        "\n",
        "    print(f\"Subtotal para '{cardapio[codigo]['nome']}': R$ {subtotal:.2f}\")\n",
        "\n",
        "print(f\"Total do pedido: R$ {total_pedido:.2f}\")\n",
        "print(\"Obrigado pela preferência!\")"
      ],
      "metadata": {
        "colab": {
          "base_uri": "https://localhost:8080/"
        },
        "id": "JoOUe8744AGC",
        "outputId": "62917c71-b8c5-49c6-8ad0-31c393d2aea4"
      },
      "execution_count": null,
      "outputs": [
        {
          "output_type": "stream",
          "name": "stdout",
          "text": [
            "Bem-vindo à Lanchonete!\n",
            "Digite o código do item desejado (ou 0 para encerrar o pedido): 100\n",
            "Digite a quantidade de 'Cachorro Quente': 2\n",
            "Subtotal para 'Cachorro Quente': R$ 2.60\n",
            "Digite o código do item desejado (ou 0 para encerrar o pedido): 150\n",
            "Código de item inválido. Por favor, tente novamente.\n",
            "Digite o código do item desejado (ou 0 para encerrar o pedido): 105\n",
            "Digite a quantidade de 'Refrigerante': 2\n",
            "Subtotal para 'Refrigerante': R$ 2.40\n",
            "Digite o código do item desejado (ou 0 para encerrar o pedido): 0\n",
            "Total do pedido: R$ 5.00\n",
            "Obrigado pela preferência!\n"
          ]
        }
      ]
    },
    {
      "cell_type": "markdown",
      "source": [
        "Em uma eleição presidencial existem quatro candidatos. Os votos são informados\n",
        "por meio de código.\n",
        "Os códigos utilizados são:\n",
        " 1, 2, 3, 4 - Votos para os respectivos candidatos\n",
        " (você deve montar a tabela ex: 1 - Jose/ 2- João/etc)\n",
        " 5 - Voto Nulo\n",
        " 6 - Voto em Branco\n",
        "Faça um programa que calcule e mostre:\n",
        " O total de votos para cada candidato;\n",
        " O total de votos nulos;\n",
        " O total de votos em branco;\n",
        " A percentagem de votos nulos sobre o total de votos;\n",
        " A percentagem de votos em branco sobre o total de votos.\n",
        "Para finalizar o conjunto de votos tem-se o valor zero."
      ],
      "metadata": {
        "id": "owDz3tFxCFOh"
      }
    },
    {
      "cell_type": "code",
      "source": [
        "print(\"Eleição Presidencial\")\n",
        "print(\"Candidatos:\")\n",
        "print(\"1 - Arthur\")\n",
        "print(\"2 - Costelinha\")\n",
        "print(\"3 - Presilhinha\")\n",
        "print(\"4 - Ana rica\")\n",
        "print(\"5 - Voto Nulo\")\n",
        "print(\"6 - Voto em Branco\")\n",
        "\n",
        "\n",
        "votos_candidatos = [0, 0, 0, 0]\n",
        "votos_nulos = 0\n",
        "votos_em_branco = 0\n",
        "total_votos = 0\n",
        "\n",
        "while True:\n",
        "    voto = int(input(\"Digite o código do candidato (ou 0 para encerrar): \"))\n",
        "    if voto == 0:\n",
        "        break\n",
        "\n",
        "    if voto >= 1 and voto <= 4:\n",
        "        votos_candidatos[voto - 1] += 1\n",
        "    elif voto == 5:\n",
        "        votos_nulos += 1\n",
        "    elif voto == 6:\n",
        "        votos_em_branco += 1\n",
        "    else:\n",
        "        print(\"Código inválido. Voto não será contabilizado.\")\n",
        "\n",
        "    total_votos += 1\n",
        "\n",
        "percentual_nulos = (votos_nulos / total_votos) * 100 if total_votos != 0 else 0\n",
        "percentual_branco = (votos_em_branco / total_votos) * 100 if total_votos != 0 else 0\n",
        "\n",
        "print(\"\\nResultados da Eleição:\")\n",
        "for i, votos in enumerate(votos_candidatos):\n",
        "    print(f\"Total de votos para o Candidato {i+1}: {votos}\")\n",
        "\n",
        "print(f\"Total de votos nulos: {votos_nulos}\")\n",
        "print(f\"Total de votos em branco: {votos_em_branco}\")\n",
        "print(f\"Percentual de votos nulos sobre o total de votos: {percentual_nulos:.2f}%\")\n",
        "print(f\"Percentual de votos em branco sobre o total de votos: {percentual_branco:.2f}%\")\n",
        "\n"
      ],
      "metadata": {
        "colab": {
          "base_uri": "https://localhost:8080/"
        },
        "id": "4iBWBRtVCIIv",
        "outputId": "7217740a-188d-4b7f-a87b-40c4491aee11"
      },
      "execution_count": null,
      "outputs": [
        {
          "output_type": "stream",
          "name": "stdout",
          "text": [
            "Eleição Presidencial\n",
            "Candidatos:\n",
            "1 - Arthur\n",
            "2 - Costelinha\n",
            "3 - Presilhinha\n",
            "4 - Ana rica\n",
            "5 - Voto Nulo\n",
            "6 - Voto em Branco\n",
            "Digite o código do candidato (ou 0 para encerrar): 2\n",
            "Digite o código do candidato (ou 0 para encerrar): 3\n",
            "Digite o código do candidato (ou 0 para encerrar): 3\n",
            "Digite o código do candidato (ou 0 para encerrar): 3\n",
            "Digite o código do candidato (ou 0 para encerrar): 3\n",
            "Digite o código do candidato (ou 0 para encerrar): 3\n",
            "Digite o código do candidato (ou 0 para encerrar): 0\n",
            "\n",
            "Resultados da Eleição:\n",
            "Total de votos para o Candidato 1: 0\n",
            "Total de votos para o Candidato 2: 1\n",
            "Total de votos para o Candidato 3: 5\n",
            "Total de votos para o Candidato 4: 0\n",
            "Total de votos nulos: 0\n",
            "Total de votos em branco: 0\n",
            "Percentual de votos nulos sobre o total de votos: 0.00%\n",
            "Percentual de votos em branco sobre o total de votos: 0.00%\n"
          ]
        }
      ]
    },
    {
      "cell_type": "code",
      "source": [],
      "metadata": {
        "id": "MgKNgB0XTA7-"
      },
      "execution_count": null,
      "outputs": []
    }
  ]
}